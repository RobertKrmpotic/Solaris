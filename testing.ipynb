{
 "cells": [
  {
   "cell_type": "code",
   "execution_count": 1,
   "metadata": {},
   "outputs": [],
   "source": [
    "import yaml\n",
    "def read_yaml_file(full_path:str):\n",
    "    with open(full_path, 'r') as stream:\n",
    "        try:\n",
    "            return yaml.safe_load(stream) \n",
    "        except yaml.YAMLError as exc:\n",
    "            print(exc)\n",
    "    "
   ]
  },
  {
   "cell_type": "code",
   "execution_count": 14,
   "metadata": {},
   "outputs": [],
   "source": [
    "import glob\n",
    "def create_planets_deck_dict():\n",
    "    files = glob.glob(\"C:/Users/Robert/Downloads/Cheating is learning/Solaris pygame/yamls/*.yml\") \n",
    "    planets_deck = {}\n",
    "    for file in files:\n",
    "        card_dict = read_yaml_file(file)\n",
    "        for key in card_dict:\n",
    "            planets_deck[key] = card_dict[key]\n",
    "    return planets_deck"
   ]
  },
  {
   "cell_type": "code",
   "execution_count": 15,
   "metadata": {},
   "outputs": [
    {
     "data": {
      "text/plain": [
       "{'name': 'Enkimdu',\n",
       " 'type': 'rocky',\n",
       " 'effect': 'All rocky planets in your system gain +2.',\n",
       " 'damage': 0,\n",
       " 'foldilock': False,\n",
       " 'trasure_rock': 2,\n",
       " 'trasure_water': 0,\n",
       " 'tresure_cloud': 0,\n",
       " 'treasure_plutonium': 0}"
      ]
     },
     "execution_count": 15,
     "metadata": {},
     "output_type": "execute_result"
    }
   ],
   "source": [
    "planets_deck_dict = create_planets_deck_dict()\n",
    "planets_deck_dict[1]"
   ]
  },
  {
   "cell_type": "code",
   "execution_count": 16,
   "metadata": {},
   "outputs": [],
   "source": [
    "class Card():\n",
    "    def __init__(self,*initial_data, **kwargs ):\n",
    "        #set attributes from dictionary\n",
    "        for dictionary in initial_data:\n",
    "            for key in dictionary:\n",
    "                setattr(self, key, dictionary[key])\n",
    "        for key in kwargs:\n",
    "            setattr(self, key, kwargs[key])"
   ]
  },
  {
   "cell_type": "code",
   "execution_count": 17,
   "metadata": {},
   "outputs": [],
   "source": [
    "def create_planet_deck_list(planets_deck_dict:dict):\n",
    "    planets_deck_list = []\n",
    "    for card in planets_deck_dict:\n",
    "        planets_deck_list.append(Card(planets_deck_dict[card]))\n",
    "    return planets_deck_list\n",
    "planets_deck_list = create_planet_deck_list(planets_deck_dict)"
   ]
  },
  {
   "cell_type": "code",
   "execution_count": 18,
   "metadata": {},
   "outputs": [
    {
     "data": {
      "text/plain": [
       "2"
      ]
     },
     "execution_count": 18,
     "metadata": {},
     "output_type": "execute_result"
    }
   ],
   "source": [
    "len(planets_deck_list)"
   ]
  },
  {
   "cell_type": "code",
   "execution_count": 19,
   "metadata": {},
   "outputs": [
    {
     "data": {
      "text/plain": [
       "1"
      ]
     },
     "execution_count": 19,
     "metadata": {},
     "output_type": "execute_result"
    }
   ],
   "source": [
    "planets_deck_list[1].trasure_rock"
   ]
  },
  {
   "cell_type": "code",
   "execution_count": 7,
   "metadata": {},
   "outputs": [],
   "source": [
    "import random\n",
    "class Deck():\n",
    "    def __init__(self, cards:list) -> None:\n",
    "        self.list = []\n",
    "        self.populate_deck(cards)\n",
    "        self.len = len(cards)\n",
    "\n",
    "    def populate_deck(self, cards:list):\n",
    "        for card in cards:\n",
    "            self.list.append(card)\n",
    "    \n",
    "    def shuffle_deck(self):\n",
    "        random.shuffle(self.list )\n",
    "    "
   ]
  },
  {
   "cell_type": "code",
   "execution_count": 8,
   "metadata": {},
   "outputs": [],
   "source": [
    "deck = Deck(planets_deck_list)\n"
   ]
  },
  {
   "cell_type": "code",
   "execution_count": 20,
   "metadata": {},
   "outputs": [],
   "source": [
    "class Player():\n",
    "    def __init__(self):\n",
    "        self.hand = []\n",
    "        self.discard_pile = []\n",
    "        self.galaxy = [] #can be dict?\n",
    "        self.leaches = 0\n",
    "        self.points = 0\n",
    "        self.max_mana = 4\n",
    "        self.mana = self.max_mana\n",
    "        \n",
    "        \n",
    "\n"
   ]
  },
  {
   "cell_type": "code",
   "execution_count": null,
   "metadata": {},
   "outputs": [],
   "source": [
    "class GameManager:\n",
    "    def __init__(self):\n",
    "        self.player1= None\n",
    "        self.player2= None\n",
    "        self.turn_n = 0\n",
    "        self.phase = \"\"\n",
    "        self.limbo = []\n",
    "        \n",
    "\n",
    "\n",
    "        self.planet_deck = []\n",
    "        self.spell_deck = []\n",
    "        self.trap_deck = []\n",
    "        self.invaders_deck = []\n"
   ]
  },
  {
   "cell_type": "code",
   "execution_count": null,
   "metadata": {},
   "outputs": [],
   "source": [
    "\n",
    "__________________________________"
   ]
  },
  {
   "cell_type": "code",
   "execution_count": null,
   "metadata": {},
   "outputs": [],
   "source": []
  },
  {
   "cell_type": "code",
   "execution_count": null,
   "metadata": {},
   "outputs": [],
   "source": [
    "deck.list"
   ]
  },
  {
   "cell_type": "code",
   "execution_count": 18,
   "metadata": {},
   "outputs": [],
   "source": [
    "import pygame\n",
    "class Crosshair(pygame.sprite.Sprite):\n",
    "    def __init__(self, width, height, pos_x, pos_y,color) -> None:\n",
    "        super().__init__()\n",
    "        self.image = pygame.Surface([width, height])\n",
    "        self.image.fill(color)\n",
    "        self.rect = self.image.get_rect()\n",
    "        self.rect.center = [pos_x,pos_y]\n",
    "        "
   ]
  },
  {
   "cell_type": "code",
   "execution_count": 24,
   "metadata": {},
   "outputs": [],
   "source": [
    "\n",
    "cardBack = pygame.image.load('assets/planets/red13C.png')\n",
    "cardBack = pygame.transform.scale(cardBack, (int(165), int(225)))\n",
    "\n",
    "def renderGame(window,background):\n",
    "    #window.fill((15,0,169))\n",
    "    window.blit(background, ( 0,0))\n",
    "    font = pygame.font.SysFont('comicsans',60, True)\n",
    "\n",
    "    window.blit(cardBack, (100, 200))\n",
    "    window.blit(cardBack, (700, 200))"
   ]
  },
  {
   "cell_type": "code",
   "execution_count": 25,
   "metadata": {},
   "outputs": [],
   "source": [
    "pygame.init()\n",
    "bounds = (1900, 1200)\n",
    "window = pygame.display.set_mode(bounds)\n",
    "pygame.display.set_caption(\"Solaris\")\n",
    "run = True\n",
    "background = pygame.image.load('assets/background/galaxy.jpg')\n",
    "\n",
    "crosshair = Crosshair(50,50,100,100, (255,255,255))\n",
    "sprites = pygame.sprite.Group()\n",
    "\n",
    "sprites.add(crosshair)\n",
    "while run:\n",
    "    key = None; \n",
    "    renderGame(window,background)\n",
    "    sprites.draw(window)\n",
    "    pygame.display.flip()\n",
    "    for event in pygame.event.get():\n",
    "        if event.type == pygame.QUIT:\n",
    "            run = False\n",
    "            pygame.quit()\n",
    "        if event.type == pygame.KEYDOWN:\n",
    "            key = event.key\n",
    "        if event.type == pygame.MOUSEBUTTONUP:\n",
    "            pos = pygame.mouse.get_pos()\n",
    "            \n",
    "            clicked_sprites = [s for s in sprites if s.rect.collidepoint(pos)]\n",
    "            print(clicked_sprites)  \n",
    "  #gameEngine.play(key)\n"
   ]
  },
  {
   "cell_type": "code",
   "execution_count": 8,
   "metadata": {},
   "outputs": [],
   "source": [
    "list1 = [\"dog\", \"kant\"]\n",
    "list_two = []\n",
    "list1.remove (\"dog\")\n",
    "list1.remove (\"kant\")\n",
    "list_two.append (\"dog\")"
   ]
  },
  {
   "cell_type": "code",
   "execution_count": 9,
   "metadata": {},
   "outputs": [
    {
     "data": {
      "text/plain": [
       "[]"
      ]
     },
     "execution_count": 9,
     "metadata": {},
     "output_type": "execute_result"
    }
   ],
   "source": [
    "list1"
   ]
  },
  {
   "cell_type": "code",
   "execution_count": null,
   "metadata": {},
   "outputs": [],
   "source": []
  }
 ],
 "metadata": {
  "kernelspec": {
   "display_name": "Python 3.8.0 ('.venv': poetry)",
   "language": "python",
   "name": "python3"
  },
  "language_info": {
   "codemirror_mode": {
    "name": "ipython",
    "version": 3
   },
   "file_extension": ".py",
   "mimetype": "text/x-python",
   "name": "python",
   "nbconvert_exporter": "python",
   "pygments_lexer": "ipython3",
   "version": "3.8.0"
  },
  "orig_nbformat": 4,
  "vscode": {
   "interpreter": {
    "hash": "4a5223cdd2960901463b8eea1d756bcf69df704dfda0a4c0d14aee65807b3479"
   }
  }
 },
 "nbformat": 4,
 "nbformat_minor": 2
}
